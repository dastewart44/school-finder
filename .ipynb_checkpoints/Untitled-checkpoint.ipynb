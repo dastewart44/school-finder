{
 "cells": [
  {
   "cell_type": "code",
   "execution_count": 1,
   "id": "828120a6",
   "metadata": {},
   "outputs": [],
   "source": [
    "import numpy as np\n",
    "import pandas as pd\n",
    "from fake_data_generator import fake_data\n",
    "from model import create_model, top_five_with_gpa, calculate_school_estimates"
   ]
  },
  {
   "cell_type": "code",
   "execution_count": 2,
   "id": "24750f62",
   "metadata": {},
   "outputs": [],
   "source": [
    "df = fake_data()"
   ]
  },
  {
   "cell_type": "code",
   "execution_count": 3,
   "id": "4b3fae94",
   "metadata": {},
   "outputs": [
    {
     "data": {
      "text/html": [
       "<div>\n",
       "<style scoped>\n",
       "    .dataframe tbody tr th:only-of-type {\n",
       "        vertical-align: middle;\n",
       "    }\n",
       "\n",
       "    .dataframe tbody tr th {\n",
       "        vertical-align: top;\n",
       "    }\n",
       "\n",
       "    .dataframe thead th {\n",
       "        text-align: right;\n",
       "    }\n",
       "</style>\n",
       "<table border=\"1\" class=\"dataframe\">\n",
       "  <thead>\n",
       "    <tr style=\"text-align: right;\">\n",
       "      <th></th>\n",
       "      <th>student_id</th>\n",
       "      <th>school_id</th>\n",
       "      <th>sped_flag</th>\n",
       "      <th>frl_flag</th>\n",
       "      <th>ell_flag</th>\n",
       "      <th>asian_flag</th>\n",
       "      <th>black_flag</th>\n",
       "      <th>hispanic_flag</th>\n",
       "      <th>white_flag</th>\n",
       "      <th>starting_gpa</th>\n",
       "      <th>gpa</th>\n",
       "    </tr>\n",
       "  </thead>\n",
       "  <tbody>\n",
       "    <tr>\n",
       "      <th>0</th>\n",
       "      <td>1</td>\n",
       "      <td>80</td>\n",
       "      <td>0</td>\n",
       "      <td>0</td>\n",
       "      <td>0</td>\n",
       "      <td>0</td>\n",
       "      <td>0</td>\n",
       "      <td>0</td>\n",
       "      <td>1</td>\n",
       "      <td>0.30</td>\n",
       "      <td>0.331954</td>\n",
       "    </tr>\n",
       "    <tr>\n",
       "      <th>1</th>\n",
       "      <td>2</td>\n",
       "      <td>82</td>\n",
       "      <td>1</td>\n",
       "      <td>0</td>\n",
       "      <td>0</td>\n",
       "      <td>0</td>\n",
       "      <td>0</td>\n",
       "      <td>0</td>\n",
       "      <td>1</td>\n",
       "      <td>0.40</td>\n",
       "      <td>0.338898</td>\n",
       "    </tr>\n",
       "    <tr>\n",
       "      <th>2</th>\n",
       "      <td>3</td>\n",
       "      <td>85</td>\n",
       "      <td>0</td>\n",
       "      <td>1</td>\n",
       "      <td>0</td>\n",
       "      <td>0</td>\n",
       "      <td>0</td>\n",
       "      <td>1</td>\n",
       "      <td>0</td>\n",
       "      <td>0.23</td>\n",
       "      <td>0.324261</td>\n",
       "    </tr>\n",
       "    <tr>\n",
       "      <th>3</th>\n",
       "      <td>4</td>\n",
       "      <td>156</td>\n",
       "      <td>0</td>\n",
       "      <td>1</td>\n",
       "      <td>0</td>\n",
       "      <td>0</td>\n",
       "      <td>0</td>\n",
       "      <td>1</td>\n",
       "      <td>0</td>\n",
       "      <td>0.23</td>\n",
       "      <td>0.252347</td>\n",
       "    </tr>\n",
       "    <tr>\n",
       "      <th>4</th>\n",
       "      <td>5</td>\n",
       "      <td>123</td>\n",
       "      <td>0</td>\n",
       "      <td>1</td>\n",
       "      <td>1</td>\n",
       "      <td>0</td>\n",
       "      <td>0</td>\n",
       "      <td>0</td>\n",
       "      <td>1</td>\n",
       "      <td>0.24</td>\n",
       "      <td>0.311328</td>\n",
       "    </tr>\n",
       "  </tbody>\n",
       "</table>\n",
       "</div>"
      ],
      "text/plain": [
       "   student_id  school_id  sped_flag  frl_flag  ell_flag  asian_flag  \\\n",
       "0           1         80          0         0         0           0   \n",
       "1           2         82          1         0         0           0   \n",
       "2           3         85          0         1         0           0   \n",
       "3           4        156          0         1         0           0   \n",
       "4           5        123          0         1         1           0   \n",
       "\n",
       "   black_flag  hispanic_flag  white_flag  starting_gpa       gpa  \n",
       "0           0              0           1          0.30  0.331954  \n",
       "1           0              0           1          0.40  0.338898  \n",
       "2           0              1           0          0.23  0.324261  \n",
       "3           0              1           0          0.23  0.252347  \n",
       "4           0              0           1          0.24  0.311328  "
      ]
     },
     "execution_count": 3,
     "metadata": {},
     "output_type": "execute_result"
    }
   ],
   "source": [
    "df.head()"
   ]
  },
  {
   "cell_type": "code",
   "execution_count": 5,
   "id": "6bfa3ec2",
   "metadata": {},
   "outputs": [],
   "source": [
    "student_characteristics = [0, 1, 1, 0, 0, 1, 0, .4]\n",
    "student_characteristics_df = pd.DataFrame([student_characteristics], columns=['sped_flag', 'frl_flag', 'ell_flag', 'asian_flag', 'black_flag', 'hispanic_flag', 'white_flag', 'starting_gpa'])  # adjust columns based on your data\n",
    "top5 = calculate_school_estimates(df, student_characteristics_df)"
   ]
  },
  {
   "cell_type": "code",
   "execution_count": 6,
   "id": "a2db1781",
   "metadata": {},
   "outputs": [
    {
     "data": {
      "text/plain": [
       "[(68, 0.5693663611715347),\n",
       " (63, 0.5678887796485923),\n",
       " (137, 0.5637920859417045),\n",
       " (25, 0.5601429035250562),\n",
       " (177, 0.5575581178954918)]"
      ]
     },
     "execution_count": 6,
     "metadata": {},
     "output_type": "execute_result"
    }
   ],
   "source": [
    "top5"
   ]
  },
  {
   "cell_type": "code",
   "execution_count": 4,
   "id": "9a7bbf1f",
   "metadata": {},
   "outputs": [
    {
     "data": {
      "text/html": [
       "<div>\n",
       "<style scoped>\n",
       "    .dataframe tbody tr th:only-of-type {\n",
       "        vertical-align: middle;\n",
       "    }\n",
       "\n",
       "    .dataframe tbody tr th {\n",
       "        vertical-align: top;\n",
       "    }\n",
       "\n",
       "    .dataframe thead th {\n",
       "        text-align: right;\n",
       "    }\n",
       "</style>\n",
       "<table border=\"1\" class=\"dataframe\">\n",
       "  <thead>\n",
       "    <tr style=\"text-align: right;\">\n",
       "      <th></th>\n",
       "      <th>student_id</th>\n",
       "      <th>school_id</th>\n",
       "      <th>sped_flag</th>\n",
       "      <th>frl_flag</th>\n",
       "      <th>ell_flag</th>\n",
       "      <th>race_flag</th>\n",
       "      <th>starting_gpa</th>\n",
       "      <th>gpa</th>\n",
       "    </tr>\n",
       "  </thead>\n",
       "  <tbody>\n",
       "    <tr>\n",
       "      <th>0</th>\n",
       "      <td>1</td>\n",
       "      <td>35</td>\n",
       "      <td>0</td>\n",
       "      <td>0</td>\n",
       "      <td>0</td>\n",
       "      <td>3</td>\n",
       "      <td>0.619110</td>\n",
       "      <td>NaN</td>\n",
       "    </tr>\n",
       "    <tr>\n",
       "      <th>1</th>\n",
       "      <td>2</td>\n",
       "      <td>82</td>\n",
       "      <td>1</td>\n",
       "      <td>0</td>\n",
       "      <td>0</td>\n",
       "      <td>3</td>\n",
       "      <td>0.419804</td>\n",
       "      <td>NaN</td>\n",
       "    </tr>\n",
       "    <tr>\n",
       "      <th>2</th>\n",
       "      <td>3</td>\n",
       "      <td>204</td>\n",
       "      <td>0</td>\n",
       "      <td>1</td>\n",
       "      <td>0</td>\n",
       "      <td>2</td>\n",
       "      <td>0.323472</td>\n",
       "      <td>NaN</td>\n",
       "    </tr>\n",
       "    <tr>\n",
       "      <th>3</th>\n",
       "      <td>4</td>\n",
       "      <td>61</td>\n",
       "      <td>0</td>\n",
       "      <td>1</td>\n",
       "      <td>0</td>\n",
       "      <td>2</td>\n",
       "      <td>0.906003</td>\n",
       "      <td>NaN</td>\n",
       "    </tr>\n",
       "    <tr>\n",
       "      <th>4</th>\n",
       "      <td>5</td>\n",
       "      <td>2</td>\n",
       "      <td>0</td>\n",
       "      <td>1</td>\n",
       "      <td>1</td>\n",
       "      <td>3</td>\n",
       "      <td>0.610556</td>\n",
       "      <td>NaN</td>\n",
       "    </tr>\n",
       "  </tbody>\n",
       "</table>\n",
       "</div>"
      ],
      "text/plain": [
       "   student_id  school_id  sped_flag  frl_flag  ell_flag  race_flag  \\\n",
       "0           1         35          0         0         0          3   \n",
       "1           2         82          1         0         0          3   \n",
       "2           3        204          0         1         0          2   \n",
       "3           4         61          0         1         0          2   \n",
       "4           5          2          0         1         1          3   \n",
       "\n",
       "   starting_gpa  gpa  \n",
       "0      0.619110  NaN  \n",
       "1      0.419804  NaN  \n",
       "2      0.323472  NaN  \n",
       "3      0.906003  NaN  \n",
       "4      0.610556  NaN  "
      ]
     },
     "execution_count": 4,
     "metadata": {},
     "output_type": "execute_result"
    }
   ],
   "source": []
  },
  {
   "cell_type": "code",
   "execution_count": null,
   "id": "cc7a1be3",
   "metadata": {},
   "outputs": [],
   "source": [
    "result.predict()"
   ]
  },
  {
   "cell_type": "code",
   "execution_count": 4,
   "id": "42449aa9",
   "metadata": {},
   "outputs": [
    {
     "name": "stdout",
     "output_type": "stream",
     "text": [
      "Fixed effects: sped_flag                 -0.023992\n",
      "frl_flag                   0.023577\n",
      "ell_flag                   0.011482\n",
      "asian_flag                -0.018529\n",
      "black_flag                 0.019863\n",
      "hispanic_flag             -0.033282\n",
      "white_flag                -0.000803\n",
      "starting_gpa               0.936734\n",
      "school_id:sped_flag        0.000056\n",
      "school_id:frl_flag         0.000066\n",
      "school_id:ell_flag         0.000002\n",
      "school_id:asian_flag       0.000118\n",
      "school_id:black_flag       0.000066\n",
      "school_id:hispanic_flag    0.000050\n",
      "school_id:white_flag      -0.000050\n",
      "school_id:starting_gpa     0.000025\n",
      "dtype: float64\n",
      "Fixed effects values: [-2.39915331e-02  2.35767457e-02  1.14824417e-02 -1.85291973e-02\n",
      "  1.98629002e-02 -3.32816463e-02 -8.02893950e-04  9.36734231e-01\n",
      "  5.61550054e-05  6.64396575e-05  2.12559500e-06  1.17694496e-04\n",
      "  6.58338939e-05  4.96173030e-05 -4.99280957e-05  2.48691428e-05]\n",
      "Specific row values: [[0.  1.  0.  1.  0.  0.  0.  0.5]]\n"
     ]
    },
    {
     "ename": "ValueError",
     "evalue": "operands could not be broadcast together with shapes (1,8) (16,) ",
     "output_type": "error",
     "traceback": [
      "\u001b[0;31m---------------------------------------------------------------------------\u001b[0m",
      "\u001b[0;31mValueError\u001b[0m                                Traceback (most recent call last)",
      "Cell \u001b[0;32mIn[4], line 1\u001b[0m\n\u001b[0;32m----> 1\u001b[0m top_five \u001b[38;5;241m=\u001b[39m \u001b[43mtop_five_with_gpa\u001b[49m\u001b[43m(\u001b[49m\u001b[43mdf\u001b[49m\u001b[43m,\u001b[49m\u001b[43m \u001b[49m\u001b[43mresult\u001b[49m\u001b[43m,\u001b[49m\u001b[43m \u001b[49m\u001b[38;5;241;43m0\u001b[39;49m\u001b[43m,\u001b[49m\u001b[43m \u001b[49m\u001b[38;5;241;43m1\u001b[39;49m\u001b[43m,\u001b[49m\u001b[43m \u001b[49m\u001b[38;5;241;43m0\u001b[39;49m\u001b[43m,\u001b[49m\u001b[43m \u001b[49m\u001b[38;5;241;43m1\u001b[39;49m\u001b[43m,\u001b[49m\u001b[43m \u001b[49m\u001b[38;5;241;43m0\u001b[39;49m\u001b[43m,\u001b[49m\u001b[43m \u001b[49m\u001b[38;5;241;43m0\u001b[39;49m\u001b[43m,\u001b[49m\u001b[43m \u001b[49m\u001b[38;5;241;43m0\u001b[39;49m\u001b[43m,\u001b[49m\u001b[43m \u001b[49m\u001b[38;5;241;43m.5\u001b[39;49m\u001b[43m)\u001b[49m\n",
      "File \u001b[0;32m~/code/dastewart44/school-finder/model.py:42\u001b[0m, in \u001b[0;36mtop_five_with_gpa\u001b[0;34m(df, result, sped_flag, frl_flag, ell_flag, asian_flag, black_flag, hispanic_flag, white_flag, starting_gpa)\u001b[0m\n\u001b[1;32m     39\u001b[0m \u001b[38;5;28mprint\u001b[39m(\u001b[38;5;124m'\u001b[39m\u001b[38;5;124mSpecific row values:\u001b[39m\u001b[38;5;124m'\u001b[39m, specific_row\u001b[38;5;241m.\u001b[39mvalues)\n\u001b[1;32m     41\u001b[0m \u001b[38;5;66;03m# Calculate the fixed effects prediction\u001b[39;00m\n\u001b[0;32m---> 42\u001b[0m fixed_effects_prediction \u001b[38;5;241m=\u001b[39m (\u001b[43mspecific_row\u001b[49m\u001b[38;5;241;43m.\u001b[39;49m\u001b[43mvalues\u001b[49m\u001b[43m \u001b[49m\u001b[38;5;241;43m*\u001b[39;49m\u001b[43m \u001b[49m\u001b[43mfixed_effects\u001b[49m\u001b[38;5;241;43m.\u001b[39;49m\u001b[43mvalues\u001b[49m)\u001b[38;5;241m.\u001b[39msum(axis\u001b[38;5;241m=\u001b[39m\u001b[38;5;241m1\u001b[39m)\n\u001b[1;32m     44\u001b[0m \u001b[38;5;66;03m# Get the random effects coefficients for each school based on the specific combination of flags\u001b[39;00m\n\u001b[1;32m     45\u001b[0m random_effects \u001b[38;5;241m=\u001b[39m result\u001b[38;5;241m.\u001b[39mrandom_effects\n",
      "\u001b[0;31mValueError\u001b[0m: operands could not be broadcast together with shapes (1,8) (16,) "
     ]
    }
   ],
   "source": [
    "top_five = top_five_with_gpa(df, result, 0, 1, 0, 1, 0, 0, 0, .5)"
   ]
  },
  {
   "cell_type": "code",
   "execution_count": 10,
   "id": "0ea99824",
   "metadata": {},
   "outputs": [
    {
     "data": {
      "text/plain": [
       "[(67, 0.5782971000346885),\n",
       " (95, 0.5778447533732727),\n",
       " (54, 0.5628176635198269),\n",
       " (105, 0.5601646923965556),\n",
       " (173, 0.5590015150365241)]"
      ]
     },
     "execution_count": 10,
     "metadata": {},
     "output_type": "execute_result"
    }
   ],
   "source": [
    "top_five"
   ]
  },
  {
   "cell_type": "code",
   "execution_count": 11,
   "id": "e27ddf2e",
   "metadata": {},
   "outputs": [
    {
     "name": "stdout",
     "output_type": "stream",
     "text": [
      "sped_flag           -0.206074\n",
      "frl_flag            -0.131865\n",
      "ell_flag            -0.102048\n",
      "C(race_flag)[T.2]   -0.053652\n",
      "starting_gpa         0.034279\n",
      "dtype: float64\n"
     ]
    }
   ],
   "source": [
    "# Create a DataFrame with a single row representing the specific flag values\n",
    "specific_row = pd.DataFrame({\n",
    "    'sped_flag': 1,\n",
    "    'frl_flag': 1,\n",
    "    'ell_flag': 0,\n",
    "    'C(race_flag)[T.2]': 2,\n",
    "    'starting_gpa': .4\n",
    "}, index=[0])\n",
    "\n",
    "# Get the school-level coefficients from the model results\n",
    "school_coefficients = result.fe_params\n",
    "\n",
    "# Filter the coefficients for the specific pattern of student-level flags\n",
    "specific_coefficients = school_coefficients[specific_row.columns]\n",
    "\n",
    "print(specific_coefficients)"
   ]
  },
  {
   "cell_type": "code",
   "execution_count": 31,
   "id": "8e4d1775",
   "metadata": {},
   "outputs": [
    {
     "name": "stdout",
     "output_type": "stream",
     "text": [
      "School ID: 19, Predicted GPA: 0.8266117559938373\n",
      "School ID: 209, Predicted GPA: 0.825529036863882\n",
      "School ID: 196, Predicted GPA: 0.8223713018959062\n",
      "School ID: 10, Predicted GPA: 0.8222827670561251\n",
      "School ID: 84, Predicted GPA: 0.8212495873964502\n"
     ]
    }
   ],
   "source": [
    "# Define the specific combination of flags\n",
    "sped_flag = 0\n",
    "frl_flag = 1\n",
    "ell_flag = 0\n",
    "race_flag = 4\n",
    "starting_gpa = 0.4\n",
    "\n",
    "# Create a DataFrame with a single row representing the specific combination of flags\n",
    "specific_row = pd.DataFrame({\n",
    "    'sped_flag': [sped_flag],\n",
    "    'frl_flag': [frl_flag],\n",
    "    'ell_flag': [ell_flag],\n",
    "    'race_flag_0': [1 if race_flag == 0 else 0],\n",
    "    'race_flag_1': [1 if race_flag == 1 else 0],\n",
    "    'race_flag_2': [1 if race_flag == 2 else 0],\n",
    "    'race_flag_3': [1 if race_flag == 3 else 0],\n",
    "    'starting_gpa': [starting_gpa]\n",
    "})\n",
    "\n",
    "# Get the fixed effects coefficients\n",
    "fixed_effects = result.fe_params.drop('Intercept')\n",
    "\n",
    "# Calculate the fixed effects prediction\n",
    "fixed_effects_prediction = (specific_row.values * fixed_effects.values).sum(axis=1)\n",
    "\n",
    "# Get the random effects coefficients for each school based on the specific combination of flags\n",
    "random_effects = result.random_effects\n",
    "\n",
    "# Calculate the predicted GPA for each school\n",
    "predicted_gpas = {}\n",
    "\n",
    "for school_id, effect in random_effects.items():\n",
    "    random_effects_prediction = effect[0]\n",
    "    predicted_gpa = fixed_effects_prediction + random_effects_prediction + result.fe_params['Intercept']\n",
    "    predicted_gpas[school_id] = predicted_gpa[0]\n",
    "\n",
    "# Sort the predicted GPAs in descending order and get the top 5 schools\n",
    "top_schools = sorted(predicted_gpas.items(), key=lambda x: x[1], reverse=True)[:5]\n",
    "\n",
    "# Print the top 5 schools\n",
    "for school_id, predicted_gpa in top_schools:\n",
    "    print(f\"School ID: {school_id}, Predicted GPA: {predicted_gpa}\")\n"
   ]
  },
  {
   "cell_type": "code",
   "execution_count": null,
   "id": "c3bc83e3",
   "metadata": {},
   "outputs": [],
   "source": []
  },
  {
   "cell_type": "code",
   "execution_count": null,
   "id": "d3f8b0c7",
   "metadata": {},
   "outputs": [],
   "source": []
  },
  {
   "cell_type": "code",
   "execution_count": null,
   "id": "6ba7d66b",
   "metadata": {},
   "outputs": [],
   "source": []
  }
 ],
 "metadata": {
  "kernelspec": {
   "display_name": "Python 3 (ipykernel)",
   "language": "python",
   "name": "python3"
  },
  "language_info": {
   "codemirror_mode": {
    "name": "ipython",
    "version": 3
   },
   "file_extension": ".py",
   "mimetype": "text/x-python",
   "name": "python",
   "nbconvert_exporter": "python",
   "pygments_lexer": "ipython3",
   "version": "3.10.6"
  },
  "toc": {
   "base_numbering": 1,
   "nav_menu": {},
   "number_sections": true,
   "sideBar": true,
   "skip_h1_title": false,
   "title_cell": "Table of Contents",
   "title_sidebar": "Contents",
   "toc_cell": false,
   "toc_position": {},
   "toc_section_display": true,
   "toc_window_display": false
  }
 },
 "nbformat": 4,
 "nbformat_minor": 5
}
